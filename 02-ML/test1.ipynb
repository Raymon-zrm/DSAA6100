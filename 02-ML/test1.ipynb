{
  "cells": [
    {
      "cell_type": "code",
      "execution_count": 130,
      "metadata": {
        "id": "x9ojS8jVhnag"
      },
      "outputs": [],
      "source": [
        "#Import data processing and cleaning packages\n",
        "import pandas as pd\n",
        "import numpy as np\n",
        "import random as rnd\n",
        "\n",
        "#Import visualization packages\n",
        "import seaborn as sns\n",
        "import matplotlib.pyplot as plt\n",
        "%matplotlib inline\n",
        "\n",
        "#Import machine learning algorithm related packages\n",
        "from fastai.imports import *\n",
        "from sklearn.tree import DecisionTreeClassifier\n",
        "np.set_printoptions(linewidth=100)"
      ]
    },
    {
      "cell_type": "code",
      "execution_count": 131,
      "metadata": {
        "id": "1XzQrBDGj4gp"
      },
      "outputs": [],
      "source": [
        "#Load data set\n",
        "train_df = pd.read_csv('./train.csv')\n",
        "test_df = pd.read_csv('./test.csv')\n",
        "modes = train_df.mode().iloc[0]"
      ]
    },
    {
      "cell_type": "code",
      "execution_count": 132,
      "metadata": {
        "colab": {
          "base_uri": "https://localhost:8080/"
        },
        "id": "_giKpUeMk0SE",
        "outputId": "465c617f-6267-47ac-b49c-d213dde4949c"
      },
      "outputs": [
        {
          "data": {
            "text/plain": [
              "PassengerId      0\n",
              "Survived         0\n",
              "Pclass           0\n",
              "Name             0\n",
              "Sex              0\n",
              "Age            177\n",
              "SibSp            0\n",
              "Parch            0\n",
              "Ticket           0\n",
              "Fare             0\n",
              "Cabin          687\n",
              "Embarked         2\n",
              "dtype: int64"
            ]
          },
          "execution_count": 132,
          "metadata": {},
          "output_type": "execute_result"
        }
      ],
      "source": [
        "#Check data\n",
        "train_df.isnull().sum() #Check for missing values in the dataset"
      ]
    },
    {
      "cell_type": "code",
      "execution_count": 133,
      "metadata": {
        "colab": {
          "base_uri": "https://localhost:8080/",
          "height": 175
        },
        "id": "9Zk1dcgkk2to",
        "outputId": "56b59ac6-ce1c-4148-d221-f423907d1b57"
      },
      "outputs": [
        {
          "data": {
            "text/html": [
              "<div>\n",
              "<style scoped>\n",
              "    .dataframe tbody tr th:only-of-type {\n",
              "        vertical-align: middle;\n",
              "    }\n",
              "\n",
              "    .dataframe tbody tr th {\n",
              "        vertical-align: top;\n",
              "    }\n",
              "\n",
              "    .dataframe thead th {\n",
              "        text-align: right;\n",
              "    }\n",
              "</style>\n",
              "<table border=\"1\" class=\"dataframe\">\n",
              "  <thead>\n",
              "    <tr style=\"text-align: right;\">\n",
              "      <th></th>\n",
              "      <th>Name</th>\n",
              "      <th>Sex</th>\n",
              "      <th>Ticket</th>\n",
              "      <th>Cabin</th>\n",
              "      <th>Embarked</th>\n",
              "    </tr>\n",
              "  </thead>\n",
              "  <tbody>\n",
              "    <tr>\n",
              "      <th>count</th>\n",
              "      <td>891</td>\n",
              "      <td>891</td>\n",
              "      <td>891</td>\n",
              "      <td>204</td>\n",
              "      <td>889</td>\n",
              "    </tr>\n",
              "    <tr>\n",
              "      <th>unique</th>\n",
              "      <td>891</td>\n",
              "      <td>2</td>\n",
              "      <td>681</td>\n",
              "      <td>147</td>\n",
              "      <td>3</td>\n",
              "    </tr>\n",
              "    <tr>\n",
              "      <th>top</th>\n",
              "      <td>Braund, Mr. Owen Harris</td>\n",
              "      <td>male</td>\n",
              "      <td>347082</td>\n",
              "      <td>B96 B98</td>\n",
              "      <td>S</td>\n",
              "    </tr>\n",
              "    <tr>\n",
              "      <th>freq</th>\n",
              "      <td>1</td>\n",
              "      <td>577</td>\n",
              "      <td>7</td>\n",
              "      <td>4</td>\n",
              "      <td>644</td>\n",
              "    </tr>\n",
              "  </tbody>\n",
              "</table>\n",
              "</div>"
            ],
            "text/plain": [
              "                           Name   Sex  Ticket    Cabin Embarked\n",
              "count                       891   891     891      204      889\n",
              "unique                      891     2     681      147        3\n",
              "top     Braund, Mr. Owen Harris  male  347082  B96 B98        S\n",
              "freq                          1   577       7        4      644"
            ]
          },
          "execution_count": 133,
          "metadata": {},
          "output_type": "execute_result"
        }
      ],
      "source": [
        " #Describe data\n",
        "round(train_df.describe(percentiles=[.25,.50,.60,.70,.80,.90,.99]),2)\n",
        "train_df.describe(include = ['O'])"
      ]
    },
    {
      "cell_type": "code",
      "execution_count": 134,
      "metadata": {
        "id": "jOg2_pcNQ6vP"
      },
      "outputs": [],
      "source": [
        "cats = [\"Sex\",\"Embarked\"]\n",
        "conts = ['Age','SibSp','Parch','LogFare',\"Pclass\"]\n",
        "dep = \"Survived\""
      ]
    },
    {
      "cell_type": "code",
      "execution_count": 135,
      "metadata": {
        "colab": {
          "base_uri": "https://localhost:8080/",
          "height": 505
        },
        "id": "PixcUgyXprFe",
        "outputId": "b43b2a2e-bbdf-45fe-9409-b1f3a4ca1203"
      },
      "outputs": [
        {
          "name": "stderr",
          "output_type": "stream",
          "text": [
            "/Users/raymon/miniconda3/envs/d2l/lib/python3.9/site-packages/seaborn/_oldcore.py:1498: FutureWarning: is_categorical_dtype is deprecated and will be removed in a future version. Use isinstance(dtype, CategoricalDtype) instead\n",
            "  if pd.api.types.is_categorical_dtype(vector):\n",
            "/Users/raymon/miniconda3/envs/d2l/lib/python3.9/site-packages/seaborn/categorical.py:641: FutureWarning: The default of observed=False is deprecated and will be changed to True in a future version of pandas. Pass observed=False to retain current behavior or observed=True to adopt the future default and silence this warning.\n",
            "  grouped_vals = vals.groupby(grouper)\n",
            "/Users/raymon/miniconda3/envs/d2l/lib/python3.9/site-packages/seaborn/_oldcore.py:1498: FutureWarning: is_categorical_dtype is deprecated and will be removed in a future version. Use isinstance(dtype, CategoricalDtype) instead\n",
            "  if pd.api.types.is_categorical_dtype(vector):\n",
            "/Users/raymon/miniconda3/envs/d2l/lib/python3.9/site-packages/seaborn/categorical.py:641: FutureWarning: The default of observed=False is deprecated and will be changed to True in a future version of pandas. Pass observed=False to retain current behavior or observed=True to adopt the future default and silence this warning.\n",
            "  grouped_vals = vals.groupby(grouper)\n"
          ]
        },
        {
          "data": {
            "text/plain": [
              "[Text(0.5, 1.0, 'Histogram')]"
            ]
          },
          "execution_count": 135,
          "metadata": {},
          "output_type": "execute_result"
        },
        {
          "data": {
            "image/png": "[encoded data removed]",
            "text/plain": [
              "<Figure size 1100x500 with 2 Axes>"
            ]
          },
          "metadata": {},
          "output_type": "display_data"
        }
      ],
      "source": [
        "def proc_data(train_df):\n",
        "  train_df['Fare'] = train_df.Fare.fillna(0)\n",
        "  train_df.fillna(modes, inplace=True)\n",
        "\n",
        "  train_df['LogFare'] = np.log1p(train_df['Fare'])\n",
        "  train_df['Embarked'] = pd.Categorical(train_df.Embarked)\n",
        "  train_df['Sex'] = pd.Categorical(train_df.Sex)\n",
        "\n",
        "proc_data(train_df)\n",
        "proc_data(test_df)\n",
        "\n",
        "fig,axs = plt.subplots(1,2, figsize=(11,5))\n",
        "sns.barplot(data=train_df, y=dep, x=\"Sex\", ax=axs[0]).set(title=\"Survival rate\")\n",
        "sns.countplot(data=train_df, x=\"Sex\", ax=axs[1]).set(title=\"Histogram\")"
      ]
    },
    {
      "cell_type": "code",
      "execution_count": 136,
      "metadata": {
        "id": "CuALRt5qb-Zl"
      },
      "outputs": [],
      "source": [
        "from numpy import random\n",
        "from sklearn.model_selection import train_test_split\n",
        "\n",
        "random.seed(6100)\n",
        "trn_df,val_df = train_test_split(train_df, test_size=0.25)\n",
        "trn_df[cats] = trn_df[cats].apply(lambda x: x.cat.codes)\n",
        "val_df[cats] = val_df[cats].apply(lambda x: x.cat.codes)"
      ]
    },
    {
      "cell_type": "code",
      "execution_count": 137,
      "metadata": {
        "id": "P-VFhoNlcEpq"
      },
      "outputs": [],
      "source": [
        "def xs_y(df):\n",
        "  xs = df[cats+conts].copy()\n",
        "  return xs,df[dep] if dep in df else None\n",
        "\n",
        "trn_xs,trn_y = xs_y(trn_df)\n",
        "val_xs,val_y = xs_y(val_df)"
      ]
    },
    {
      "cell_type": "code",
      "execution_count": 138,
      "metadata": {
        "id": "g8wfXSNmkQf_"
      },
      "outputs": [],
      "source": [
        "preds = val_xs.Sex==0"
      ]
    },
    {
      "cell_type": "code",
      "execution_count": 139,
      "metadata": {
        "colab": {
          "base_uri": "https://localhost:8080/"
        },
        "id": "RkjfpNDzkWpx",
        "outputId": "9e0a65fe-06d0-45d7-8dc1-c419ca1bde3d"
      },
      "outputs": [
        {
          "data": {
            "text/plain": [
              "0.18385650224215247"
            ]
          },
          "execution_count": 139,
          "metadata": {},
          "output_type": "execute_result"
        }
      ],
      "source": [
        "from sklearn.metrics import mean_absolute_error\n",
        "mean_absolute_error(val_y, preds)"
      ]
    },
    {
      "cell_type": "code",
      "execution_count": 140,
      "metadata": {
        "colab": {
          "base_uri": "https://localhost:8080/",
          "height": 465
        },
        "id": "mxlylFNRkcTN",
        "outputId": "dd157af3-f72e-4241-d618-030eebd968bf"
      },
      "outputs": [
        {
          "name": "stderr",
          "output_type": "stream",
          "text": [
            "/Users/raymon/miniconda3/envs/d2l/lib/python3.9/site-packages/seaborn/_oldcore.py:1498: FutureWarning: is_categorical_dtype is deprecated and will be removed in a future version. Use isinstance(dtype, CategoricalDtype) instead\n",
            "  if pd.api.types.is_categorical_dtype(vector):\n",
            "/Users/raymon/miniconda3/envs/d2l/lib/python3.9/site-packages/seaborn/_oldcore.py:1498: FutureWarning: is_categorical_dtype is deprecated and will be removed in a future version. Use isinstance(dtype, CategoricalDtype) instead\n",
            "  if pd.api.types.is_categorical_dtype(vector):\n",
            "/Users/raymon/miniconda3/envs/d2l/lib/python3.9/site-packages/seaborn/_oldcore.py:1498: FutureWarning: is_categorical_dtype is deprecated and will be removed in a future version. Use isinstance(dtype, CategoricalDtype) instead\n",
            "  if pd.api.types.is_categorical_dtype(vector):\n",
            "/Users/raymon/miniconda3/envs/d2l/lib/python3.9/site-packages/seaborn/categorical.py:1794: FutureWarning: use_inf_as_na option is deprecated and will be removed in a future version. Convert inf values to NaN before operating instead.\n",
            "  with pd.option_context('mode.use_inf_as_na', True):\n",
            "/Users/raymon/miniconda3/envs/d2l/lib/python3.9/site-packages/seaborn/categorical.py:1794: FutureWarning: use_inf_as_na option is deprecated and will be removed in a future version. Convert inf values to NaN before operating instead.\n",
            "  with pd.option_context('mode.use_inf_as_na', True):\n",
            "/Users/raymon/miniconda3/envs/d2l/lib/python3.9/site-packages/seaborn/_oldcore.py:1498: FutureWarning: is_categorical_dtype is deprecated and will be removed in a future version. Use isinstance(dtype, CategoricalDtype) instead\n",
            "  if pd.api.types.is_categorical_dtype(vector):\n",
            "/Users/raymon/miniconda3/envs/d2l/lib/python3.9/site-packages/seaborn/_oldcore.py:1119: FutureWarning: use_inf_as_na option is deprecated and will be removed in a future version. Convert inf values to NaN before operating instead.\n",
            "  with pd.option_context('mode.use_inf_as_na', True):\n"
          ]
        },
        {
          "data": {
            "image/png": "[encoded data removed]",
            "text/plain": [
              "<Figure size 1100x500 with 2 Axes>"
            ]
          },
          "metadata": {},
          "output_type": "display_data"
        }
      ],
      "source": [
        "train_df_fare = trn_df[trn_df.LogFare>0]\n",
        "fig,axs = plt.subplots(1,2, figsize=(11,5))\n",
        "sns.boxenplot(data=train_df_fare, x=dep, y=\"LogFare\", ax=axs[0])\n",
        "sns.kdeplot(data=train_df_fare, x=\"LogFare\", ax=axs[1]);"
      ]
    },
    {
      "cell_type": "code",
      "execution_count": 141,
      "metadata": {
        "id": "eXfbCArmZpX4"
      },
      "outputs": [],
      "source": [
        "preds = val_xs.LogFare>2.6"
      ]
    },
    {
      "cell_type": "code",
      "execution_count": 142,
      "metadata": {
        "colab": {
          "base_uri": "https://localhost:8080/"
        },
        "id": "mq8yzrqjZ_9w",
        "outputId": "cc305124-83a4-4bbd-f342-20bcdf290145"
      },
      "outputs": [
        {
          "data": {
            "text/plain": [
              "0.3901345291479821"
            ]
          },
          "execution_count": 142,
          "metadata": {},
          "output_type": "execute_result"
        }
      ],
      "source": [
        "mean_absolute_error(val_y, preds)"
      ]
    },
    {
      "cell_type": "code",
      "execution_count": 143,
      "metadata": {
        "id": "PG0PwdQPaPGb"
      },
      "outputs": [],
      "source": [
        "def _side_score(side, y):\n",
        "  tot = side.sum()\n",
        "\n",
        "  if tot <= 1:\n",
        "    return 0\n",
        "\n",
        "  return y[side].std() * tot"
      ]
    },
    {
      "cell_type": "code",
      "execution_count": 144,
      "metadata": {
        "id": "-Ph5VHo7atdb"
      },
      "outputs": [],
      "source": [
        "def score(col, y, split):\n",
        "\n",
        "  lhs = col <= split\n",
        "\n",
        "  return (_side_score(lhs, y) + _side_score(~lhs, y)) / len(y)"
      ]
    },
    {
      "cell_type": "code",
      "execution_count": 145,
      "metadata": {
        "colab": {
          "base_uri": "https://localhost:8080/"
        },
        "id": "UuWk6B8GuP35",
        "outputId": "80f1bdd1-82a7-4790-9650-0a208704dec3"
      },
      "outputs": [
        {
          "data": {
            "text/plain": [
              "0.41537513837432405"
            ]
          },
          "execution_count": 145,
          "metadata": {},
          "output_type": "execute_result"
        }
      ],
      "source": [
        "score(trn_xs[\"Sex\"], trn_y, 0.5)"
      ]
    },
    {
      "cell_type": "code",
      "execution_count": 146,
      "metadata": {
        "colab": {
          "base_uri": "https://localhost:8080/"
        },
        "id": "l6Ch5j83uezB",
        "outputId": "d00ab8f3-acf1-4c4a-89d1-2ff65dc6e35e"
      },
      "outputs": [
        {
          "data": {
            "text/plain": [
              "0.4634161904669958"
            ]
          },
          "execution_count": 146,
          "metadata": {},
          "output_type": "execute_result"
        }
      ],
      "source": [
        "score(trn_xs[\"LogFare\"], trn_y, 2.6)"
      ]
    },
    {
      "cell_type": "code",
      "execution_count": 147,
      "metadata": {
        "id": "FywXbhwLtIW7"
      },
      "outputs": [
        {
          "data": {
            "text/plain": [
              "array([ 0.42,  0.67,  0.75,  0.83,  0.92,  1.  ,  2.  ,  3.  ,  4.  ,  5.  ,  6.  ,  7.  ,  8.  ,\n",
              "        9.  , 10.  , 11.  , 13.  , 14.  , 14.5 , 15.  , 16.  , 17.  , 18.  , 19.  , 20.  , 20.5 ,\n",
              "       21.  , 22.  , 23.  , 23.5 , 24.  , 24.5 , 25.  , 26.  , 27.  , 28.  , 28.5 , 29.  , 30.  ,\n",
              "       31.  , 32.  , 32.5 , 33.  , 34.  , 34.5 , 35.  , 36.  , 37.  , 38.  , 39.  , 40.  , 40.5 ,\n",
              "       41.  , 42.  , 43.  , 44.  , 45.  , 45.5 , 46.  , 47.  , 48.  , 49.  , 50.  , 51.  , 52.  ,\n",
              "       53.  , 54.  , 55.  , 55.5 , 56.  , 57.  , 58.  , 59.  , 60.  , 61.  , 62.  , 63.  , 64.  ,\n",
              "       65.  , 66.  , 70.  , 71.  , 80.  ])"
            ]
          },
          "execution_count": 147,
          "metadata": {},
          "output_type": "execute_result"
        }
      ],
      "source": [
        "nm = \"Age\"\n",
        "col = trn_xs[nm]\n",
        "unq = col.unique()\n",
        "unq.sort()\n",
        "unq"
      ]
    },
    {
      "cell_type": "code",
      "execution_count": 148,
      "metadata": {},
      "outputs": [
        {
          "data": {
            "text/plain": [
              "6.0"
            ]
          },
          "execution_count": 148,
          "metadata": {},
          "output_type": "execute_result"
        }
      ],
      "source": [
        "scores = np.array([score(col, trn_y, o) for o in unq if not np.isnan(o)])\n",
        "unq[scores.argmin()]"
      ]
    },
    {
      "cell_type": "code",
      "execution_count": 149,
      "metadata": {},
      "outputs": [
        {
          "data": {
            "text/plain": [
              "(6.0, 0.47755985540913887)"
            ]
          },
          "execution_count": 149,
          "metadata": {},
          "output_type": "execute_result"
        }
      ],
      "source": [
        "def min_col(df, nm):\n",
        "    col, y = df[nm], df[dep]\n",
        "    \n",
        "    unq = col.dropna().unique()\n",
        "    \n",
        "    scores = np.array([score(col, y, o) for o in unq if not np.isnan(o)])\n",
        "    \n",
        "    idx =scores.argmin()\n",
        "    \n",
        "    return unq[idx], scores[idx]\n",
        "\n",
        "min_col(trn_df, \"Age\")"
      ]
    },
    {
      "cell_type": "code",
      "execution_count": 150,
      "metadata": {},
      "outputs": [
        {
          "data": {
            "text/plain": [
              "{'Sex': (0, 0.41537513837432405),\n",
              " 'Embarked': (0, 0.4774088673558219),\n",
              " 'Age': (6.0, 0.47755985540913887),\n",
              " 'SibSp': (4, 0.48085492750455133),\n",
              " 'Parch': (0, 0.48128928928540843),\n",
              " 'LogFare': (2.4437981558973862, 0.45985733262941125),\n",
              " 'Pclass': (2, 0.4619431919993575)}"
            ]
          },
          "execution_count": 150,
          "metadata": {},
          "output_type": "execute_result"
        }
      ],
      "source": [
        "cols = cats+conts\n",
        "{o:min_col(trn_df, o) for o in cols}"
      ]
    },
    {
      "cell_type": "code",
      "execution_count": 151,
      "metadata": {},
      "outputs": [
        {
          "data": {
            "text/plain": [
              "{'Embarked': (0, 0.3987734212115409),\n",
              " 'Age': (6.0, 0.3832024832301747),\n",
              " 'SibSp': (4, 0.3980485878562532),\n",
              " 'Parch': (0, 0.39542347449304477),\n",
              " 'LogFare': (3.305053521109253, 0.38630980875034787),\n",
              " 'Pclass': (1, 0.3884348299604776)}"
            ]
          },
          "execution_count": 151,
          "metadata": {},
          "output_type": "execute_result"
        }
      ],
      "source": [
        "cols.remove(\"Sex\")\n",
        "ismale = trn_df.Sex==1\n",
        "males,females = trn_df[ismale],trn_df[~ismale]\n",
        "\n",
        "{o:min_col(males, o) for o in cols}"
      ]
    },
    {
      "cell_type": "code",
      "execution_count": 152,
      "metadata": {},
      "outputs": [
        {
          "data": {
            "text/plain": [
              "{'Embarked': (0, 0.4279523449359224),\n",
              " 'Age': (29.0, 0.4323296630164761),\n",
              " 'SibSp': (2, 0.4256234307022214),\n",
              " 'Parch': (1, 0.4347951127802823),\n",
              " 'LogFare': (3.8691155044168695, 0.40895325941848665),\n",
              " 'Pclass': (2, 0.372849998080021)}"
            ]
          },
          "execution_count": 152,
          "metadata": {},
          "output_type": "execute_result"
        }
      ],
      "source": [
        "{o:min_col(females, o) for o in cols}"
      ]
    },
    {
      "cell_type": "code",
      "execution_count": 153,
      "metadata": {},
      "outputs": [],
      "source": [
        "from sklearn.tree import DecisionTreeClassifier, export_graphviz\n",
        "\n",
        "m = DecisionTreeClassifier(max_leaf_nodes=4).fit(trn_xs, trn_y)"
      ]
    },
    {
      "cell_type": "code",
      "execution_count": 156,
      "metadata": {},
      "outputs": [],
      "source": [
        "import graphviz\n",
        "\n",
        "def draw_tree(t, df, size=10, ratio=0.6, precision=2, **kwargs):\n",
        "    s=export_graphviz(t, out_file=None, feature_names=df.columns, filled=True, rounded=True,\n",
        "                      special_characters=True, rotate=False, precision=precision, **kwargs)\n",
        "    return graphviz.Source(re.sub('Tree {', f'Tree {{ size={size}; ratio={ratio}', s))"
      ]
    },
    {
      "cell_type": "code",
      "execution_count": 157,
      "metadata": {},
      "outputs": [
        {
          "data": {
            "image/svg+xml": [
              "<?xml version=\"1.0\" encoding=\"UTF-8\" standalone=\"no\"?>\n",
              "<!DOCTYPE svg PUBLIC \"-//W3C//DTD SVG 1.1//EN\"\n",
              " \"http://www.w3.org/Graphics/SVG/1.1/DTD/svg11.dtd\">\n",
              "<!-- Generated by graphviz version 9.0.0 (20230911.1827)\n",
              " -->\n",
              "<!-- Title: Tree Pages: 1 -->\n",
              "<svg width=\"504pt\" height=\"305pt\"\n",
              " viewBox=\"0.00 0.00 503.75 305.00\" xmlns=\"http://www.w3.org/2000/svg\" xmlns:xlink=\"http://www.w3.org/1999/xlink\">\n",
              "<g id=\"graph0\" class=\"graph\" transform=\"scale(1 1) rotate(0) translate(4 301)\">\n",
              "<title>Tree</title>\n",
              "<polygon fill=\"white\" stroke=\"none\" points=\"-4,4 -4,-301 499.75,-301 499.75,4 -4,4\"/>\n",
              "<!-- 0 -->\n",
              "<g id=\"node1\" class=\"node\">\n",
              "<title>0</title>\n",
              "<path fill=\"#f5cfb3\" stroke=\"black\" d=\"M295.5,-292C295.5,-292 195.5,-292 195.5,-292 189.5,-292 183.5,-286 183.5,-280 183.5,-280 183.5,-236 183.5,-236 183.5,-230 189.5,-224 195.5,-224 195.5,-224 295.5,-224 295.5,-224 301.5,-224 307.5,-230 307.5,-236 307.5,-236 307.5,-280 307.5,-280 307.5,-286 301.5,-292 295.5,-292\"/>\n",
              "<text text-anchor=\"start\" x=\"217\" y=\"-274.7\" font-family=\"Helvetica,sans-Serif\" font-size=\"14.00\">Sex ≤ 0.5</text>\n",
              "<text text-anchor=\"start\" x=\"214\" y=\"-259.7\" font-family=\"Helvetica,sans-Serif\" font-size=\"14.00\">gini = 0.47</text>\n",
              "<text text-anchor=\"start\" x=\"200.88\" y=\"-244.7\" font-family=\"Helvetica,sans-Serif\" font-size=\"14.00\">samples = 668</text>\n",
              "<text text-anchor=\"start\" x=\"191.5\" y=\"-229.7\" font-family=\"Helvetica,sans-Serif\" font-size=\"14.00\">value = [413, 255]</text>\n",
              "</g>\n",
              "<!-- 1 -->\n",
              "<g id=\"node2\" class=\"node\">\n",
              "<title>1</title>\n",
              "<path fill=\"#81c0ee\" stroke=\"black\" d=\"M224.75,-174C224.75,-174 132.25,-174 132.25,-174 126.25,-174 120.25,-168 120.25,-162 120.25,-162 120.25,-118 120.25,-118 120.25,-112 126.25,-106 132.25,-106 132.25,-106 224.75,-106 224.75,-106 230.75,-106 236.75,-112 236.75,-118 236.75,-118 236.75,-162 236.75,-162 236.75,-168 230.75,-174 224.75,-174\"/>\n",
              "<text text-anchor=\"start\" x=\"141.75\" y=\"-156.7\" font-family=\"Helvetica,sans-Serif\" font-size=\"14.00\">Pclass ≤ 2.5</text>\n",
              "<text text-anchor=\"start\" x=\"147\" y=\"-141.7\" font-family=\"Helvetica,sans-Serif\" font-size=\"14.00\">gini = 0.39</text>\n",
              "<text text-anchor=\"start\" x=\"133.88\" y=\"-126.7\" font-family=\"Helvetica,sans-Serif\" font-size=\"14.00\">samples = 226</text>\n",
              "<text text-anchor=\"start\" x=\"128.25\" y=\"-111.7\" font-family=\"Helvetica,sans-Serif\" font-size=\"14.00\">value = [60, 166]</text>\n",
              "</g>\n",
              "<!-- 0&#45;&gt;1 -->\n",
              "<g id=\"edge1\" class=\"edge\">\n",
              "<title>0&#45;&gt;1</title>\n",
              "<path fill=\"none\" stroke=\"black\" d=\"M226.3,-223.76C219.15,-211.38 210.93,-197.15 203.35,-184.02\"/>\n",
              "<polygon fill=\"black\" stroke=\"black\" points=\"206.49,-182.47 198.46,-175.56 200.43,-185.97 206.49,-182.47\"/>\n",
              "<text text-anchor=\"middle\" x=\"191.24\" y=\"-192.6\" font-family=\"Helvetica,sans-Serif\" font-size=\"14.00\">True</text>\n",
              "</g>\n",
              "<!-- 2 -->\n",
              "<g id=\"node5\" class=\"node\">\n",
              "<title>2</title>\n",
              "<path fill=\"#eca16b\" stroke=\"black\" d=\"M359.75,-174C359.75,-174 267.25,-174 267.25,-174 261.25,-174 255.25,-168 255.25,-162 255.25,-162 255.25,-118 255.25,-118 255.25,-112 261.25,-106 267.25,-106 267.25,-106 359.75,-106 359.75,-106 365.75,-106 371.75,-112 371.75,-118 371.75,-118 371.75,-162 371.75,-162 371.75,-168 365.75,-174 359.75,-174\"/>\n",
              "<text text-anchor=\"start\" x=\"284.62\" y=\"-156.7\" font-family=\"Helvetica,sans-Serif\" font-size=\"14.00\">Age ≤ 6.5</text>\n",
              "<text text-anchor=\"start\" x=\"282\" y=\"-141.7\" font-family=\"Helvetica,sans-Serif\" font-size=\"14.00\">gini = 0.32</text>\n",
              "<text text-anchor=\"start\" x=\"268.88\" y=\"-126.7\" font-family=\"Helvetica,sans-Serif\" font-size=\"14.00\">samples = 442</text>\n",
              "<text text-anchor=\"start\" x=\"263.25\" y=\"-111.7\" font-family=\"Helvetica,sans-Serif\" font-size=\"14.00\">value = [353, 89]</text>\n",
              "</g>\n",
              "<!-- 0&#45;&gt;2 -->\n",
              "<g id=\"edge4\" class=\"edge\">\n",
              "<title>0&#45;&gt;2</title>\n",
              "<path fill=\"none\" stroke=\"black\" d=\"M264.99,-223.76C272.24,-211.38 280.58,-197.15 288.28,-184.02\"/>\n",
              "<polygon fill=\"black\" stroke=\"black\" points=\"291.21,-185.95 293.25,-175.55 285.17,-182.41 291.21,-185.95\"/>\n",
              "<text text-anchor=\"middle\" x=\"300.32\" y=\"-192.64\" font-family=\"Helvetica,sans-Serif\" font-size=\"14.00\">False</text>\n",
              "</g>\n",
              "<!-- 3 -->\n",
              "<g id=\"node3\" class=\"node\">\n",
              "<title>3</title>\n",
              "<path fill=\"#49a5e7\" stroke=\"black\" d=\"M97,-56.5C97,-56.5 12,-56.5 12,-56.5 6,-56.5 0,-50.5 0,-44.5 0,-44.5 0,-15.5 0,-15.5 0,-9.5 6,-3.5 12,-3.5 12,-3.5 97,-3.5 97,-3.5 103,-3.5 109,-9.5 109,-15.5 109,-15.5 109,-44.5 109,-44.5 109,-50.5 103,-56.5 97,-56.5\"/>\n",
              "<text text-anchor=\"start\" x=\"23\" y=\"-39.2\" font-family=\"Helvetica,sans-Serif\" font-size=\"14.00\">gini = 0.14</text>\n",
              "<text text-anchor=\"start\" x=\"9.88\" y=\"-24.2\" font-family=\"Helvetica,sans-Serif\" font-size=\"14.00\">samples = 122</text>\n",
              "<text text-anchor=\"start\" x=\"8\" y=\"-9.2\" font-family=\"Helvetica,sans-Serif\" font-size=\"14.00\">value = [9, 113]</text>\n",
              "</g>\n",
              "<!-- 1&#45;&gt;3 -->\n",
              "<g id=\"edge2\" class=\"edge\">\n",
              "<title>1&#45;&gt;3</title>\n",
              "<path fill=\"none\" stroke=\"black\" d=\"M140.28,-105.72C125.17,-92.56 107.84,-77.46 92.73,-64.3\"/>\n",
              "<polygon fill=\"black\" stroke=\"black\" points=\"95.11,-61.73 85.27,-57.8 90.51,-67 95.11,-61.73\"/>\n",
              "</g>\n",
              "<!-- 4 -->\n",
              "<g id=\"node4\" class=\"node\">\n",
              "<title>4</title>\n",
              "<path fill=\"#f8fbfe\" stroke=\"black\" d=\"M224,-56.5C224,-56.5 139,-56.5 139,-56.5 133,-56.5 127,-50.5 127,-44.5 127,-44.5 127,-15.5 127,-15.5 127,-9.5 133,-3.5 139,-3.5 139,-3.5 224,-3.5 224,-3.5 230,-3.5 236,-9.5 236,-15.5 236,-15.5 236,-44.5 236,-44.5 236,-50.5 230,-56.5 224,-56.5\"/>\n",
              "<text text-anchor=\"start\" x=\"153.75\" y=\"-39.2\" font-family=\"Helvetica,sans-Serif\" font-size=\"14.00\">gini = 0.5</text>\n",
              "<text text-anchor=\"start\" x=\"136.88\" y=\"-24.2\" font-family=\"Helvetica,sans-Serif\" font-size=\"14.00\">samples = 104</text>\n",
              "<text text-anchor=\"start\" x=\"135\" y=\"-9.2\" font-family=\"Helvetica,sans-Serif\" font-size=\"14.00\">value = [51, 53]</text>\n",
              "</g>\n",
              "<!-- 1&#45;&gt;4 -->\n",
              "<g id=\"edge3\" class=\"edge\">\n",
              "<title>1&#45;&gt;4</title>\n",
              "<path fill=\"none\" stroke=\"black\" d=\"M179.42,-105.72C179.76,-93.79 180.13,-80.27 180.47,-68.04\"/>\n",
              "<polygon fill=\"black\" stroke=\"black\" points=\"183.96,-68.41 180.74,-58.32 176.96,-68.22 183.96,-68.41\"/>\n",
              "</g>\n",
              "<!-- 5 -->\n",
              "<g id=\"node6\" class=\"node\">\n",
              "<title>5</title>\n",
              "<path fill=\"#83c2ef\" stroke=\"black\" d=\"M349.25,-56.5C349.25,-56.5 271.75,-56.5 271.75,-56.5 265.75,-56.5 259.75,-50.5 259.75,-44.5 259.75,-44.5 259.75,-15.5 259.75,-15.5 259.75,-9.5 265.75,-3.5 271.75,-3.5 271.75,-3.5 349.25,-3.5 349.25,-3.5 355.25,-3.5 361.25,-9.5 361.25,-15.5 361.25,-15.5 361.25,-44.5 361.25,-44.5 361.25,-50.5 355.25,-56.5 349.25,-56.5\"/>\n",
              "<text text-anchor=\"start\" x=\"282.75\" y=\"-39.2\" font-family=\"Helvetica,sans-Serif\" font-size=\"14.00\">gini = 0.4</text>\n",
              "<text text-anchor=\"start\" x=\"269.62\" y=\"-24.2\" font-family=\"Helvetica,sans-Serif\" font-size=\"14.00\">samples = 22</text>\n",
              "<text text-anchor=\"start\" x=\"267.75\" y=\"-9.2\" font-family=\"Helvetica,sans-Serif\" font-size=\"14.00\">value = [6, 16]</text>\n",
              "</g>\n",
              "<!-- 2&#45;&gt;5 -->\n",
              "<g id=\"edge5\" class=\"edge\">\n",
              "<title>2&#45;&gt;5</title>\n",
              "<path fill=\"none\" stroke=\"black\" d=\"M312.58,-105.72C312.24,-93.79 311.87,-80.27 311.53,-68.04\"/>\n",
              "<polygon fill=\"black\" stroke=\"black\" points=\"315.04,-68.22 311.26,-58.32 308.04,-68.41 315.04,-68.22\"/>\n",
              "</g>\n",
              "<!-- 6 -->\n",
              "<g id=\"node7\" class=\"node\">\n",
              "<title>6</title>\n",
              "<path fill=\"#ea9c63\" stroke=\"black\" d=\"M483.75,-56.5C483.75,-56.5 391.25,-56.5 391.25,-56.5 385.25,-56.5 379.25,-50.5 379.25,-44.5 379.25,-44.5 379.25,-15.5 379.25,-15.5 379.25,-9.5 385.25,-3.5 391.25,-3.5 391.25,-3.5 483.75,-3.5 483.75,-3.5 489.75,-3.5 495.75,-9.5 495.75,-15.5 495.75,-15.5 495.75,-44.5 495.75,-44.5 495.75,-50.5 489.75,-56.5 483.75,-56.5\"/>\n",
              "<text text-anchor=\"start\" x=\"406\" y=\"-39.2\" font-family=\"Helvetica,sans-Serif\" font-size=\"14.00\">gini = 0.29</text>\n",
              "<text text-anchor=\"start\" x=\"392.88\" y=\"-24.2\" font-family=\"Helvetica,sans-Serif\" font-size=\"14.00\">samples = 420</text>\n",
              "<text text-anchor=\"start\" x=\"387.25\" y=\"-9.2\" font-family=\"Helvetica,sans-Serif\" font-size=\"14.00\">value = [347, 73]</text>\n",
              "</g>\n",
              "<!-- 2&#45;&gt;6 -->\n",
              "<g id=\"edge6\" class=\"edge\">\n",
              "<title>2&#45;&gt;6</title>\n",
              "<path fill=\"none\" stroke=\"black\" d=\"M351.72,-105.72C366.83,-92.56 384.16,-77.46 399.27,-64.3\"/>\n",
              "<polygon fill=\"black\" stroke=\"black\" points=\"401.49,-67 406.73,-57.8 396.89,-61.73 401.49,-67\"/>\n",
              "</g>\n",
              "</g>\n",
              "</svg>\n"
            ],
            "text/plain": [
              "<graphviz.sources.Source at 0x1580a3bb0>"
            ]
          },
          "execution_count": 157,
          "metadata": {},
          "output_type": "execute_result"
        }
      ],
      "source": [
        "draw_tree(m, trn_xs, size=10)"
      ]
    },
    {
      "cell_type": "code",
      "execution_count": 162,
      "metadata": {},
      "outputs": [],
      "source": [
        "def gini(cond):\n",
        "    \n",
        "    act = train_df.loc[cond, dep]\n",
        "    \n",
        "    return 1 - act.mean()**2 - (1-act).mean()**2"
      ]
    },
    {
      "cell_type": "code",
      "execution_count": 163,
      "metadata": {},
      "outputs": [
        {
          "data": {
            "text/plain": [
              "(0.3828350034484158, 0.3064437162277842)"
            ]
          },
          "execution_count": 163,
          "metadata": {},
          "output_type": "execute_result"
        }
      ],
      "source": [
        "gini(train_df.Sex=='female'), gini(train_df.Sex=='male')"
      ]
    },
    {
      "cell_type": "code",
      "execution_count": 164,
      "metadata": {},
      "outputs": [
        {
          "data": {
            "text/plain": [
              "0.19282511210762332"
            ]
          },
          "execution_count": 164,
          "metadata": {},
          "output_type": "execute_result"
        }
      ],
      "source": [
        "mean_absolute_error(val_y, m.predict(val_xs))"
      ]
    },
    {
      "cell_type": "code",
      "execution_count": 165,
      "metadata": {},
      "outputs": [
        {
          "data": {
            "image/svg+xml": [
              "<?xml version=\"1.0\" encoding=\"UTF-8\" standalone=\"no\"?>\n",
              "<!DOCTYPE svg PUBLIC \"-//W3C//DTD SVG 1.1//EN\"\n",
              " \"http://www.w3.org/Graphics/SVG/1.1/DTD/svg11.dtd\">\n",
              "<!-- Generated by graphviz version 9.0.0 (20230911.1827)\n",
              " -->\n",
              "<!-- Title: Tree Pages: 1 -->\n",
              "<svg width=\"720pt\" height=\"434pt\"\n",
              " viewBox=\"0.00 0.00 720.00 433.92\" xmlns=\"http://www.w3.org/2000/svg\" xmlns:xlink=\"http://www.w3.org/1999/xlink\">\n",
              "<g id=\"graph0\" class=\"graph\" transform=\"scale(0.633458 0.633458) rotate(0) translate(4 681)\">\n",
              "<title>Tree</title>\n",
              "<polygon fill=\"white\" stroke=\"none\" points=\"-4,4 -4,-681 1132.62,-681 1132.62,4 -4,4\"/>\n",
              "<!-- 0 -->\n",
              "<g id=\"node1\" class=\"node\">\n",
              "<title>0</title>\n",
              "<path fill=\"#f5cfb3\" stroke=\"black\" d=\"M595.83,-677C595.83,-677 495.83,-677 495.83,-677 489.83,-677 483.83,-671 483.83,-665 483.83,-665 483.83,-621 483.83,-621 483.83,-615 489.83,-609 495.83,-609 495.83,-609 595.83,-609 595.83,-609 601.83,-609 607.83,-615 607.83,-621 607.83,-621 607.83,-665 607.83,-665 607.83,-671 601.83,-677 595.83,-677\"/>\n",
              "<text text-anchor=\"start\" x=\"517.33\" y=\"-659.7\" font-family=\"Helvetica,sans-Serif\" font-size=\"14.00\">Sex ≤ 0.5</text>\n",
              "<text text-anchor=\"start\" x=\"514.33\" y=\"-644.7\" font-family=\"Helvetica,sans-Serif\" font-size=\"14.00\">gini = 0.47</text>\n",
              "<text text-anchor=\"start\" x=\"501.2\" y=\"-629.7\" font-family=\"Helvetica,sans-Serif\" font-size=\"14.00\">samples = 668</text>\n",
              "<text text-anchor=\"start\" x=\"491.83\" y=\"-614.7\" font-family=\"Helvetica,sans-Serif\" font-size=\"14.00\">value = [413, 255]</text>\n",
              "</g>\n",
              "<!-- 1 -->\n",
              "<g id=\"node2\" class=\"node\">\n",
              "<title>1</title>\n",
              "<path fill=\"#81c0ee\" stroke=\"black\" d=\"M450.08,-573C450.08,-573 357.58,-573 357.58,-573 351.58,-573 345.58,-567 345.58,-561 345.58,-561 345.58,-517 345.58,-517 345.58,-511 351.58,-505 357.58,-505 357.58,-505 450.08,-505 450.08,-505 456.08,-505 462.08,-511 462.08,-517 462.08,-517 462.08,-561 462.08,-561 462.08,-567 456.08,-573 450.08,-573\"/>\n",
              "<text text-anchor=\"start\" x=\"367.08\" y=\"-555.7\" font-family=\"Helvetica,sans-Serif\" font-size=\"14.00\">Pclass ≤ 2.5</text>\n",
              "<text text-anchor=\"start\" x=\"372.33\" y=\"-540.7\" font-family=\"Helvetica,sans-Serif\" font-size=\"14.00\">gini = 0.39</text>\n",
              "<text text-anchor=\"start\" x=\"359.2\" y=\"-525.7\" font-family=\"Helvetica,sans-Serif\" font-size=\"14.00\">samples = 226</text>\n",
              "<text text-anchor=\"start\" x=\"353.58\" y=\"-510.7\" font-family=\"Helvetica,sans-Serif\" font-size=\"14.00\">value = [60, 166]</text>\n",
              "</g>\n",
              "<!-- 0&#45;&gt;1 -->\n",
              "<g id=\"edge1\" class=\"edge\">\n",
              "<title>0&#45;&gt;1</title>\n",
              "<path fill=\"none\" stroke=\"black\" d=\"M499.33,-608.6C486.58,-599.44 472.63,-589.42 459.43,-579.94\"/>\n",
              "<polygon fill=\"black\" stroke=\"black\" points=\"461.82,-577.35 451.66,-574.36 457.74,-583.03 461.82,-577.35\"/>\n",
              "<text text-anchor=\"middle\" x=\"454.47\" y=\"-592.34\" font-family=\"Helvetica,sans-Serif\" font-size=\"14.00\">True</text>\n",
              "</g>\n",
              "<!-- 8 -->\n",
              "<g id=\"node9\" class=\"node\">\n",
              "<title>8</title>\n",
              "<path fill=\"#eca16b\" stroke=\"black\" d=\"M744.08,-573C744.08,-573 651.58,-573 651.58,-573 645.58,-573 639.58,-567 639.58,-561 639.58,-561 639.58,-517 639.58,-517 639.58,-511 645.58,-505 651.58,-505 651.58,-505 744.08,-505 744.08,-505 750.08,-505 756.08,-511 756.08,-517 756.08,-517 756.08,-561 756.08,-561 756.08,-567 750.08,-573 744.08,-573\"/>\n",
              "<text text-anchor=\"start\" x=\"652.08\" y=\"-555.7\" font-family=\"Helvetica,sans-Serif\" font-size=\"14.00\">LogFare ≤ 3.31</text>\n",
              "<text text-anchor=\"start\" x=\"666.33\" y=\"-540.7\" font-family=\"Helvetica,sans-Serif\" font-size=\"14.00\">gini = 0.32</text>\n",
              "<text text-anchor=\"start\" x=\"653.2\" y=\"-525.7\" font-family=\"Helvetica,sans-Serif\" font-size=\"14.00\">samples = 442</text>\n",
              "<text text-anchor=\"start\" x=\"647.58\" y=\"-510.7\" font-family=\"Helvetica,sans-Serif\" font-size=\"14.00\">value = [353, 89]</text>\n",
              "</g>\n",
              "<!-- 0&#45;&gt;8 -->\n",
              "<g id=\"edge8\" class=\"edge\">\n",
              "<title>0&#45;&gt;8</title>\n",
              "<path fill=\"none\" stroke=\"black\" d=\"M595.6,-608.6C609.38,-599.36 624.47,-589.23 638.72,-579.66\"/>\n",
              "<polygon fill=\"black\" stroke=\"black\" points=\"640.33,-582.8 646.69,-574.32 636.43,-576.98 640.33,-582.8\"/>\n",
              "<text text-anchor=\"middle\" x=\"643.12\" y=\"-592.2\" font-family=\"Helvetica,sans-Serif\" font-size=\"14.00\">False</text>\n",
              "</g>\n",
              "<!-- 2 -->\n",
              "<g id=\"node3\" class=\"node\">\n",
              "<title>2</title>\n",
              "<path fill=\"#49a5e7\" stroke=\"black\" d=\"M237.33,-469C237.33,-469 152.33,-469 152.33,-469 146.33,-469 140.33,-463 140.33,-457 140.33,-457 140.33,-413 140.33,-413 140.33,-407 146.33,-401 152.33,-401 152.33,-401 237.33,-401 237.33,-401 243.33,-401 249.33,-407 249.33,-413 249.33,-413 249.33,-457 249.33,-457 249.33,-463 243.33,-469 237.33,-469\"/>\n",
              "<text text-anchor=\"start\" x=\"149.08\" y=\"-451.7\" font-family=\"Helvetica,sans-Serif\" font-size=\"14.00\">LogFare ≤ 3.44</text>\n",
              "<text text-anchor=\"start\" x=\"163.33\" y=\"-436.7\" font-family=\"Helvetica,sans-Serif\" font-size=\"14.00\">gini = 0.14</text>\n",
              "<text text-anchor=\"start\" x=\"150.2\" y=\"-421.7\" font-family=\"Helvetica,sans-Serif\" font-size=\"14.00\">samples = 122</text>\n",
              "<text text-anchor=\"start\" x=\"148.33\" y=\"-406.7\" font-family=\"Helvetica,sans-Serif\" font-size=\"14.00\">value = [9, 113]</text>\n",
              "</g>\n",
              "<!-- 1&#45;&gt;2 -->\n",
              "<g id=\"edge2\" class=\"edge\">\n",
              "<title>1&#45;&gt;2</title>\n",
              "<path fill=\"none\" stroke=\"black\" d=\"M345.33,-509.45C318.77,-496.49 287.27,-481.11 259.96,-467.79\"/>\n",
              "<polygon fill=\"black\" stroke=\"black\" points=\"261.6,-464.69 251.08,-463.45 258.53,-470.98 261.6,-464.69\"/>\n",
              "</g>\n",
              "<!-- 5 -->\n",
              "<g id=\"node6\" class=\"node\">\n",
              "<title>5</title>\n",
              "<path fill=\"#f8fbfe\" stroke=\"black\" d=\"M446.33,-469C446.33,-469 361.33,-469 361.33,-469 355.33,-469 349.33,-463 349.33,-457 349.33,-457 349.33,-413 349.33,-413 349.33,-407 355.33,-401 361.33,-401 361.33,-401 446.33,-401 446.33,-401 452.33,-401 458.33,-407 458.33,-413 458.33,-413 458.33,-457 458.33,-457 458.33,-463 452.33,-469 446.33,-469\"/>\n",
              "<text text-anchor=\"start\" x=\"361.83\" y=\"-451.7\" font-family=\"Helvetica,sans-Serif\" font-size=\"14.00\">LogFare ≤ 2.7</text>\n",
              "<text text-anchor=\"start\" x=\"376.08\" y=\"-436.7\" font-family=\"Helvetica,sans-Serif\" font-size=\"14.00\">gini = 0.5</text>\n",
              "<text text-anchor=\"start\" x=\"359.2\" y=\"-421.7\" font-family=\"Helvetica,sans-Serif\" font-size=\"14.00\">samples = 104</text>\n",
              "<text text-anchor=\"start\" x=\"357.33\" y=\"-406.7\" font-family=\"Helvetica,sans-Serif\" font-size=\"14.00\">value = [51, 53]</text>\n",
              "</g>\n",
              "<!-- 1&#45;&gt;5 -->\n",
              "<g id=\"edge5\" class=\"edge\">\n",
              "<title>1&#45;&gt;5</title>\n",
              "<path fill=\"none\" stroke=\"black\" d=\"M403.83,-504.6C403.83,-497.03 403.83,-488.87 403.83,-480.9\"/>\n",
              "<polygon fill=\"black\" stroke=\"black\" points=\"407.33,-480.99 403.83,-470.99 400.33,-480.99 407.33,-480.99\"/>\n",
              "</g>\n",
              "<!-- 3 -->\n",
              "<g id=\"node4\" class=\"node\">\n",
              "<title>3</title>\n",
              "<path fill=\"#59ade9\" stroke=\"black\" d=\"M96.58,-357.5C96.58,-357.5 19.08,-357.5 19.08,-357.5 13.08,-357.5 7.08,-351.5 7.08,-345.5 7.08,-345.5 7.08,-316.5 7.08,-316.5 7.08,-310.5 13.08,-304.5 19.08,-304.5 19.08,-304.5 96.58,-304.5 96.58,-304.5 102.58,-304.5 108.58,-310.5 108.58,-316.5 108.58,-316.5 108.58,-345.5 108.58,-345.5 108.58,-351.5 102.58,-357.5 96.58,-357.5\"/>\n",
              "<text text-anchor=\"start\" x=\"26.33\" y=\"-340.2\" font-family=\"Helvetica,sans-Serif\" font-size=\"14.00\">gini = 0.24</text>\n",
              "<text text-anchor=\"start\" x=\"16.95\" y=\"-325.2\" font-family=\"Helvetica,sans-Serif\" font-size=\"14.00\">samples = 50</text>\n",
              "<text text-anchor=\"start\" x=\"15.08\" y=\"-310.2\" font-family=\"Helvetica,sans-Serif\" font-size=\"14.00\">value = [7, 43]</text>\n",
              "</g>\n",
              "<!-- 2&#45;&gt;3 -->\n",
              "<g id=\"edge3\" class=\"edge\">\n",
              "<title>2&#45;&gt;3</title>\n",
              "<path fill=\"none\" stroke=\"black\" d=\"M149.97,-400.6C134.31,-388.94 116.78,-375.89 101.24,-364.32\"/>\n",
              "<polygon fill=\"black\" stroke=\"black\" points=\"103.68,-361.77 93.57,-358.61 99.5,-367.39 103.68,-361.77\"/>\n",
              "</g>\n",
              "<!-- 4 -->\n",
              "<g id=\"node5\" class=\"node\">\n",
              "<title>4</title>\n",
              "<path fill=\"#3fa0e6\" stroke=\"black\" d=\"M233.58,-357.5C233.58,-357.5 156.08,-357.5 156.08,-357.5 150.08,-357.5 144.08,-351.5 144.08,-345.5 144.08,-345.5 144.08,-316.5 144.08,-316.5 144.08,-310.5 150.08,-304.5 156.08,-304.5 156.08,-304.5 233.58,-304.5 233.58,-304.5 239.58,-304.5 245.58,-310.5 245.58,-316.5 245.58,-316.5 245.58,-345.5 245.58,-345.5 245.58,-351.5 239.58,-357.5 233.58,-357.5\"/>\n",
              "<text text-anchor=\"start\" x=\"163.33\" y=\"-340.2\" font-family=\"Helvetica,sans-Serif\" font-size=\"14.00\">gini = 0.05</text>\n",
              "<text text-anchor=\"start\" x=\"153.95\" y=\"-325.2\" font-family=\"Helvetica,sans-Serif\" font-size=\"14.00\">samples = 72</text>\n",
              "<text text-anchor=\"start\" x=\"152.08\" y=\"-310.2\" font-family=\"Helvetica,sans-Serif\" font-size=\"14.00\">value = [2, 70]</text>\n",
              "</g>\n",
              "<!-- 2&#45;&gt;4 -->\n",
              "<g id=\"edge4\" class=\"edge\">\n",
              "<title>2&#45;&gt;4</title>\n",
              "<path fill=\"none\" stroke=\"black\" d=\"M194.83,-400.6C194.83,-390.47 194.83,-379.28 194.83,-368.93\"/>\n",
              "<polygon fill=\"black\" stroke=\"black\" points=\"198.33,-369.22 194.83,-359.22 191.33,-369.22 198.33,-369.22\"/>\n",
              "</g>\n",
              "<!-- 6 -->\n",
              "<g id=\"node7\" class=\"node\">\n",
              "<title>6</title>\n",
              "<path fill=\"#b7dbf6\" stroke=\"black\" d=\"M377.33,-357.5C377.33,-357.5 292.33,-357.5 292.33,-357.5 286.33,-357.5 280.33,-351.5 280.33,-345.5 280.33,-345.5 280.33,-316.5 280.33,-316.5 280.33,-310.5 286.33,-304.5 292.33,-304.5 292.33,-304.5 377.33,-304.5 377.33,-304.5 383.33,-304.5 389.33,-310.5 389.33,-316.5 389.33,-316.5 389.33,-345.5 389.33,-345.5 389.33,-351.5 383.33,-357.5 377.33,-357.5\"/>\n",
              "<text text-anchor=\"start\" x=\"303.33\" y=\"-340.2\" font-family=\"Helvetica,sans-Serif\" font-size=\"14.00\">gini = 0.48</text>\n",
              "<text text-anchor=\"start\" x=\"293.95\" y=\"-325.2\" font-family=\"Helvetica,sans-Serif\" font-size=\"14.00\">samples = 54</text>\n",
              "<text text-anchor=\"start\" x=\"288.33\" y=\"-310.2\" font-family=\"Helvetica,sans-Serif\" font-size=\"14.00\">value = [21, 33]</text>\n",
              "</g>\n",
              "<!-- 5&#45;&gt;6 -->\n",
              "<g id=\"edge6\" class=\"edge\">\n",
              "<title>5&#45;&gt;6</title>\n",
              "<path fill=\"none\" stroke=\"black\" d=\"M381.23,-400.6C373.94,-389.82 365.83,-377.83 358.46,-366.94\"/>\n",
              "<polygon fill=\"black\" stroke=\"black\" points=\"361.57,-365.28 353.06,-358.96 355.77,-369.2 361.57,-365.28\"/>\n",
              "</g>\n",
              "<!-- 7 -->\n",
              "<g id=\"node8\" class=\"node\">\n",
              "<title>7</title>\n",
              "<path fill=\"#f6d5bd\" stroke=\"black\" d=\"M521.33,-357.5C521.33,-357.5 436.33,-357.5 436.33,-357.5 430.33,-357.5 424.33,-351.5 424.33,-345.5 424.33,-345.5 424.33,-316.5 424.33,-316.5 424.33,-310.5 430.33,-304.5 436.33,-304.5 436.33,-304.5 521.33,-304.5 521.33,-304.5 527.33,-304.5 533.33,-310.5 533.33,-316.5 533.33,-316.5 533.33,-345.5 533.33,-345.5 533.33,-351.5 527.33,-357.5 521.33,-357.5\"/>\n",
              "<text text-anchor=\"start\" x=\"447.33\" y=\"-340.2\" font-family=\"Helvetica,sans-Serif\" font-size=\"14.00\">gini = 0.48</text>\n",
              "<text text-anchor=\"start\" x=\"437.95\" y=\"-325.2\" font-family=\"Helvetica,sans-Serif\" font-size=\"14.00\">samples = 50</text>\n",
              "<text text-anchor=\"start\" x=\"432.33\" y=\"-310.2\" font-family=\"Helvetica,sans-Serif\" font-size=\"14.00\">value = [30, 20]</text>\n",
              "</g>\n",
              "<!-- 5&#45;&gt;7 -->\n",
              "<g id=\"edge7\" class=\"edge\">\n",
              "<title>5&#45;&gt;7</title>\n",
              "<path fill=\"none\" stroke=\"black\" d=\"M428.38,-400.6C436.31,-389.82 445.13,-377.83 453.13,-366.94\"/>\n",
              "<polygon fill=\"black\" stroke=\"black\" points=\"455.92,-369.06 459.03,-358.93 450.29,-364.91 455.92,-369.06\"/>\n",
              "</g>\n",
              "<!-- 9 -->\n",
              "<g id=\"node10\" class=\"node\">\n",
              "<title>9</title>\n",
              "<path fill=\"#e9965a\" stroke=\"black\" d=\"M744.08,-469C744.08,-469 651.58,-469 651.58,-469 645.58,-469 639.58,-463 639.58,-457 639.58,-457 639.58,-413 639.58,-413 639.58,-407 645.58,-401 651.58,-401 651.58,-401 744.08,-401 744.08,-401 750.08,-401 756.08,-407 756.08,-413 756.08,-413 756.08,-457 756.08,-457 756.08,-463 750.08,-469 744.08,-469\"/>\n",
              "<text text-anchor=\"start\" x=\"661.45\" y=\"-451.7\" font-family=\"Helvetica,sans-Serif\" font-size=\"14.00\">Age ≤ 20.25</text>\n",
              "<text text-anchor=\"start\" x=\"666.33\" y=\"-436.7\" font-family=\"Helvetica,sans-Serif\" font-size=\"14.00\">gini = 0.24</text>\n",
              "<text text-anchor=\"start\" x=\"653.2\" y=\"-421.7\" font-family=\"Helvetica,sans-Serif\" font-size=\"14.00\">samples = 317</text>\n",
              "<text text-anchor=\"start\" x=\"647.58\" y=\"-406.7\" font-family=\"Helvetica,sans-Serif\" font-size=\"14.00\">value = [272, 45]</text>\n",
              "</g>\n",
              "<!-- 8&#45;&gt;9 -->\n",
              "<g id=\"edge9\" class=\"edge\">\n",
              "<title>8&#45;&gt;9</title>\n",
              "<path fill=\"none\" stroke=\"black\" d=\"M697.83,-504.6C697.83,-497.03 697.83,-488.87 697.83,-480.9\"/>\n",
              "<polygon fill=\"black\" stroke=\"black\" points=\"701.33,-480.99 697.83,-470.99 694.33,-480.99 701.33,-480.99\"/>\n",
              "</g>\n",
              "<!-- 18 -->\n",
              "<g id=\"node19\" class=\"node\">\n",
              "<title>18</title>\n",
              "<path fill=\"#f3c5a5\" stroke=\"black\" d=\"M964.33,-469C964.33,-469 879.33,-469 879.33,-469 873.33,-469 867.33,-463 867.33,-457 867.33,-457 867.33,-413 867.33,-413 867.33,-407 873.33,-401 879.33,-401 879.33,-401 964.33,-401 964.33,-401 970.33,-401 976.33,-407 976.33,-413 976.33,-413 976.33,-457 976.33,-457 976.33,-463 970.33,-469 964.33,-469\"/>\n",
              "<text text-anchor=\"start\" x=\"886.95\" y=\"-451.7\" font-family=\"Helvetica,sans-Serif\" font-size=\"14.00\">SibSp ≤ 0.5</text>\n",
              "<text text-anchor=\"start\" x=\"890.33\" y=\"-436.7\" font-family=\"Helvetica,sans-Serif\" font-size=\"14.00\">gini = 0.46</text>\n",
              "<text text-anchor=\"start\" x=\"877.2\" y=\"-421.7\" font-family=\"Helvetica,sans-Serif\" font-size=\"14.00\">samples = 125</text>\n",
              "<text text-anchor=\"start\" x=\"875.33\" y=\"-406.7\" font-family=\"Helvetica,sans-Serif\" font-size=\"14.00\">value = [81, 44]</text>\n",
              "</g>\n",
              "<!-- 8&#45;&gt;18 -->\n",
              "<g id=\"edge18\" class=\"edge\">\n",
              "<title>8&#45;&gt;18</title>\n",
              "<path fill=\"none\" stroke=\"black\" d=\"M756.39,-511.33C787.27,-497.27 825.23,-479.99 856.99,-465.52\"/>\n",
              "<polygon fill=\"black\" stroke=\"black\" points=\"858.04,-468.89 865.69,-461.56 855.14,-462.52 858.04,-468.89\"/>\n",
              "</g>\n",
              "<!-- 10 -->\n",
              "<g id=\"node11\" class=\"node\">\n",
              "<title>10</title>\n",
              "<path fill=\"#efb184\" stroke=\"black\" d=\"M666.33,-357.5C666.33,-357.5 581.33,-357.5 581.33,-357.5 575.33,-357.5 569.33,-351.5 569.33,-345.5 569.33,-345.5 569.33,-316.5 569.33,-316.5 569.33,-310.5 575.33,-304.5 581.33,-304.5 581.33,-304.5 666.33,-304.5 666.33,-304.5 672.33,-304.5 678.33,-310.5 678.33,-316.5 678.33,-316.5 678.33,-345.5 678.33,-345.5 678.33,-351.5 672.33,-357.5 666.33,-357.5\"/>\n",
              "<text text-anchor=\"start\" x=\"596.08\" y=\"-340.2\" font-family=\"Helvetica,sans-Serif\" font-size=\"14.00\">gini = 0.4</text>\n",
              "<text text-anchor=\"start\" x=\"582.95\" y=\"-325.2\" font-family=\"Helvetica,sans-Serif\" font-size=\"14.00\">samples = 58</text>\n",
              "<text text-anchor=\"start\" x=\"577.33\" y=\"-310.2\" font-family=\"Helvetica,sans-Serif\" font-size=\"14.00\">value = [42, 16]</text>\n",
              "</g>\n",
              "<!-- 9&#45;&gt;10 -->\n",
              "<g id=\"edge10\" class=\"edge\">\n",
              "<title>9&#45;&gt;10</title>\n",
              "<path fill=\"none\" stroke=\"black\" d=\"M673.6,-400.6C665.77,-389.82 657.08,-377.83 649.18,-366.94\"/>\n",
              "<polygon fill=\"black\" stroke=\"black\" points=\"652.07,-364.97 643.37,-358.93 646.4,-369.08 652.07,-364.97\"/>\n",
              "</g>\n",
              "<!-- 11 -->\n",
              "<g id=\"node12\" class=\"node\">\n",
              "<title>11</title>\n",
              "<path fill=\"#e89152\" stroke=\"black\" d=\"M819.08,-365C819.08,-365 726.58,-365 726.58,-365 720.58,-365 714.58,-359 714.58,-353 714.58,-353 714.58,-309 714.58,-309 714.58,-303 720.58,-297 726.58,-297 726.58,-297 819.08,-297 819.08,-297 825.08,-297 831.08,-303 831.08,-309 831.08,-309 831.08,-353 831.08,-353 831.08,-359 825.08,-365 819.08,-365\"/>\n",
              "<text text-anchor=\"start\" x=\"740.2\" y=\"-347.7\" font-family=\"Helvetica,sans-Serif\" font-size=\"14.00\">Age ≤ 32.5</text>\n",
              "<text text-anchor=\"start\" x=\"745.08\" y=\"-332.7\" font-family=\"Helvetica,sans-Serif\" font-size=\"14.00\">gini = 0.2</text>\n",
              "<text text-anchor=\"start\" x=\"728.2\" y=\"-317.7\" font-family=\"Helvetica,sans-Serif\" font-size=\"14.00\">samples = 259</text>\n",
              "<text text-anchor=\"start\" x=\"722.58\" y=\"-302.7\" font-family=\"Helvetica,sans-Serif\" font-size=\"14.00\">value = [230, 29]</text>\n",
              "</g>\n",
              "<!-- 9&#45;&gt;11 -->\n",
              "<g id=\"edge11\" class=\"edge\">\n",
              "<title>9&#45;&gt;11</title>\n",
              "<path fill=\"none\" stroke=\"black\" d=\"M722.38,-400.6C728.47,-392.32 735.08,-383.34 741.44,-374.69\"/>\n",
              "<polygon fill=\"black\" stroke=\"black\" points=\"744.21,-376.82 747.32,-366.69 738.57,-372.68 744.21,-376.82\"/>\n",
              "</g>\n",
              "<!-- 12 -->\n",
              "<g id=\"node13\" class=\"node\">\n",
              "<title>12</title>\n",
              "<path fill=\"#e99558\" stroke=\"black\" d=\"M746.08,-261C746.08,-261 653.58,-261 653.58,-261 647.58,-261 641.58,-255 641.58,-249 641.58,-249 641.58,-205 641.58,-205 641.58,-199 647.58,-193 653.58,-193 653.58,-193 746.08,-193 746.08,-193 752.08,-193 758.08,-199 758.08,-205 758.08,-205 758.08,-249 758.08,-249 758.08,-255 752.08,-261 746.08,-261\"/>\n",
              "<text text-anchor=\"start\" x=\"663.45\" y=\"-243.7\" font-family=\"Helvetica,sans-Serif\" font-size=\"14.00\">Age ≤ 24.75</text>\n",
              "<text text-anchor=\"start\" x=\"668.33\" y=\"-228.7\" font-family=\"Helvetica,sans-Serif\" font-size=\"14.00\">gini = 0.23</text>\n",
              "<text text-anchor=\"start\" x=\"655.2\" y=\"-213.7\" font-family=\"Helvetica,sans-Serif\" font-size=\"14.00\">samples = 178</text>\n",
              "<text text-anchor=\"start\" x=\"649.58\" y=\"-198.7\" font-family=\"Helvetica,sans-Serif\" font-size=\"14.00\">value = [154, 24]</text>\n",
              "</g>\n",
              "<!-- 11&#45;&gt;12 -->\n",
              "<g id=\"edge12\" class=\"edge\">\n",
              "<title>11&#45;&gt;12</title>\n",
              "<path fill=\"none\" stroke=\"black\" d=\"M748.92,-296.6C743,-288.32 736.57,-279.34 730.38,-270.69\"/>\n",
              "<polygon fill=\"black\" stroke=\"black\" points=\"733.33,-268.8 724.66,-262.7 727.64,-272.87 733.33,-268.8\"/>\n",
              "</g>\n",
              "<!-- 17 -->\n",
              "<g id=\"node18\" class=\"node\">\n",
              "<title>17</title>\n",
              "<path fill=\"#e78946\" stroke=\"black\" d=\"M883.58,-253.5C883.58,-253.5 806.08,-253.5 806.08,-253.5 800.08,-253.5 794.08,-247.5 794.08,-241.5 794.08,-241.5 794.08,-212.5 794.08,-212.5 794.08,-206.5 800.08,-200.5 806.08,-200.5 806.08,-200.5 883.58,-200.5 883.58,-200.5 889.58,-200.5 895.58,-206.5 895.58,-212.5 895.58,-212.5 895.58,-241.5 895.58,-241.5 895.58,-247.5 889.58,-253.5 883.58,-253.5\"/>\n",
              "<text text-anchor=\"start\" x=\"813.33\" y=\"-236.2\" font-family=\"Helvetica,sans-Serif\" font-size=\"14.00\">gini = 0.12</text>\n",
              "<text text-anchor=\"start\" x=\"803.95\" y=\"-221.2\" font-family=\"Helvetica,sans-Serif\" font-size=\"14.00\">samples = 81</text>\n",
              "<text text-anchor=\"start\" x=\"802.08\" y=\"-206.2\" font-family=\"Helvetica,sans-Serif\" font-size=\"14.00\">value = [76, 5]</text>\n",
              "</g>\n",
              "<!-- 11&#45;&gt;17 -->\n",
              "<g id=\"edge17\" class=\"edge\">\n",
              "<title>11&#45;&gt;17</title>\n",
              "<path fill=\"none\" stroke=\"black\" d=\"M796.4,-296.6C804.02,-285.82 812.47,-273.83 820.16,-262.94\"/>\n",
              "<polygon fill=\"black\" stroke=\"black\" points=\"822.9,-265.13 825.81,-254.94 817.18,-261.09 822.9,-265.13\"/>\n",
              "</g>\n",
              "<!-- 13 -->\n",
              "<g id=\"node14\" class=\"node\">\n",
              "<title>13</title>\n",
              "<path fill=\"#e88e4e\" stroke=\"black\" d=\"M672.08,-157C672.08,-157 579.58,-157 579.58,-157 573.58,-157 567.58,-151 567.58,-145 567.58,-145 567.58,-101 567.58,-101 567.58,-95 573.58,-89 579.58,-89 579.58,-89 672.08,-89 672.08,-89 678.08,-89 684.08,-95 684.08,-101 684.08,-101 684.08,-145 684.08,-145 684.08,-151 678.08,-157 672.08,-157\"/>\n",
              "<text text-anchor=\"start\" x=\"580.08\" y=\"-139.7\" font-family=\"Helvetica,sans-Serif\" font-size=\"14.00\">LogFare ≤ 2.17</text>\n",
              "<text text-anchor=\"start\" x=\"594.33\" y=\"-124.7\" font-family=\"Helvetica,sans-Serif\" font-size=\"14.00\">gini = 0.17</text>\n",
              "<text text-anchor=\"start\" x=\"581.2\" y=\"-109.7\" font-family=\"Helvetica,sans-Serif\" font-size=\"14.00\">samples = 114</text>\n",
              "<text text-anchor=\"start\" x=\"575.58\" y=\"-94.7\" font-family=\"Helvetica,sans-Serif\" font-size=\"14.00\">value = [103, 11]</text>\n",
              "</g>\n",
              "<!-- 12&#45;&gt;13 -->\n",
              "<g id=\"edge13\" class=\"edge\">\n",
              "<title>12&#45;&gt;13</title>\n",
              "<path fill=\"none\" stroke=\"black\" d=\"M675.6,-192.6C669.59,-184.32 663.07,-175.34 656.8,-166.69\"/>\n",
              "<polygon fill=\"black\" stroke=\"black\" points=\"659.71,-164.74 651,-158.7 654.04,-168.85 659.71,-164.74\"/>\n",
              "</g>\n",
              "<!-- 16 -->\n",
              "<g id=\"node17\" class=\"node\">\n",
              "<title>16</title>\n",
              "<path fill=\"#eca16b\" stroke=\"black\" d=\"M817.33,-149.5C817.33,-149.5 732.33,-149.5 732.33,-149.5 726.33,-149.5 720.33,-143.5 720.33,-137.5 720.33,-137.5 720.33,-108.5 720.33,-108.5 720.33,-102.5 726.33,-96.5 732.33,-96.5 732.33,-96.5 817.33,-96.5 817.33,-96.5 823.33,-96.5 829.33,-102.5 829.33,-108.5 829.33,-108.5 829.33,-137.5 829.33,-137.5 829.33,-143.5 823.33,-149.5 817.33,-149.5\"/>\n",
              "<text text-anchor=\"start\" x=\"743.33\" y=\"-132.2\" font-family=\"Helvetica,sans-Serif\" font-size=\"14.00\">gini = 0.32</text>\n",
              "<text text-anchor=\"start\" x=\"733.95\" y=\"-117.2\" font-family=\"Helvetica,sans-Serif\" font-size=\"14.00\">samples = 64</text>\n",
              "<text text-anchor=\"start\" x=\"728.33\" y=\"-102.2\" font-family=\"Helvetica,sans-Serif\" font-size=\"14.00\">value = [51, 13]</text>\n",
              "</g>\n",
              "<!-- 12&#45;&gt;16 -->\n",
              "<g id=\"edge16\" class=\"edge\">\n",
              "<title>12&#45;&gt;16</title>\n",
              "<path fill=\"none\" stroke=\"black\" d=\"M724.38,-192.6C732.31,-181.82 741.13,-169.83 749.13,-158.94\"/>\n",
              "<polygon fill=\"black\" stroke=\"black\" points=\"751.92,-161.06 755.03,-150.93 746.29,-156.91 751.92,-161.06\"/>\n",
              "</g>\n",
              "<!-- 14 -->\n",
              "<g id=\"node15\" class=\"node\">\n",
              "<title>14</title>\n",
              "<path fill=\"#e99254\" stroke=\"black\" d=\"M596.58,-53.5C596.58,-53.5 519.08,-53.5 519.08,-53.5 513.08,-53.5 507.08,-47.5 507.08,-41.5 507.08,-41.5 507.08,-12.5 507.08,-12.5 507.08,-6.5 513.08,-0.5 519.08,-0.5 519.08,-0.5 596.58,-0.5 596.58,-0.5 602.58,-0.5 608.58,-6.5 608.58,-12.5 608.58,-12.5 608.58,-41.5 608.58,-41.5 608.58,-47.5 602.58,-53.5 596.58,-53.5\"/>\n",
              "<text text-anchor=\"start\" x=\"526.33\" y=\"-36.2\" font-family=\"Helvetica,sans-Serif\" font-size=\"14.00\">gini = 0.21</text>\n",
              "<text text-anchor=\"start\" x=\"516.95\" y=\"-21.2\" font-family=\"Helvetica,sans-Serif\" font-size=\"14.00\">samples = 50</text>\n",
              "<text text-anchor=\"start\" x=\"515.08\" y=\"-6.2\" font-family=\"Helvetica,sans-Serif\" font-size=\"14.00\">value = [44, 6]</text>\n",
              "</g>\n",
              "<!-- 13&#45;&gt;14 -->\n",
              "<g id=\"edge14\" class=\"edge\">\n",
              "<title>13&#45;&gt;14</title>\n",
              "<path fill=\"none\" stroke=\"black\" d=\"M601.66,-88.59C595.67,-80.31 589.23,-71.42 583.19,-63.06\"/>\n",
              "<polygon fill=\"black\" stroke=\"black\" points=\"586.16,-61.19 577.46,-55.14 580.48,-65.29 586.16,-61.19\"/>\n",
              "</g>\n",
              "<!-- 15 -->\n",
              "<g id=\"node16\" class=\"node\">\n",
              "<title>15</title>\n",
              "<path fill=\"#e78c4a\" stroke=\"black\" d=\"M732.58,-53.5C732.58,-53.5 655.08,-53.5 655.08,-53.5 649.08,-53.5 643.08,-47.5 643.08,-41.5 643.08,-41.5 643.08,-12.5 643.08,-12.5 643.08,-6.5 649.08,-0.5 655.08,-0.5 655.08,-0.5 732.58,-0.5 732.58,-0.5 738.58,-0.5 744.58,-6.5 744.58,-12.5 744.58,-12.5 744.58,-41.5 744.58,-41.5 744.58,-47.5 738.58,-53.5 732.58,-53.5\"/>\n",
              "<text text-anchor=\"start\" x=\"662.33\" y=\"-36.2\" font-family=\"Helvetica,sans-Serif\" font-size=\"14.00\">gini = 0.14</text>\n",
              "<text text-anchor=\"start\" x=\"652.95\" y=\"-21.2\" font-family=\"Helvetica,sans-Serif\" font-size=\"14.00\">samples = 64</text>\n",
              "<text text-anchor=\"start\" x=\"651.08\" y=\"-6.2\" font-family=\"Helvetica,sans-Serif\" font-size=\"14.00\">value = [59, 5]</text>\n",
              "</g>\n",
              "<!-- 13&#45;&gt;15 -->\n",
              "<g id=\"edge15\" class=\"edge\">\n",
              "<title>13&#45;&gt;15</title>\n",
              "<path fill=\"none\" stroke=\"black\" d=\"M649.99,-88.59C655.98,-80.31 662.42,-71.42 668.47,-63.06\"/>\n",
              "<polygon fill=\"black\" stroke=\"black\" points=\"671.17,-65.29 674.2,-55.14 665.5,-61.19 671.17,-65.29\"/>\n",
              "</g>\n",
              "<!-- 19 -->\n",
              "<g id=\"node20\" class=\"node\">\n",
              "<title>19</title>\n",
              "<path fill=\"#f8dbc7\" stroke=\"black\" d=\"M964.33,-357.5C964.33,-357.5 879.33,-357.5 879.33,-357.5 873.33,-357.5 867.33,-351.5 867.33,-345.5 867.33,-345.5 867.33,-316.5 867.33,-316.5 867.33,-310.5 873.33,-304.5 879.33,-304.5 879.33,-304.5 964.33,-304.5 964.33,-304.5 970.33,-304.5 976.33,-310.5 976.33,-316.5 976.33,-316.5 976.33,-345.5 976.33,-345.5 976.33,-351.5 970.33,-357.5 964.33,-357.5\"/>\n",
              "<text text-anchor=\"start\" x=\"890.33\" y=\"-340.2\" font-family=\"Helvetica,sans-Serif\" font-size=\"14.00\">gini = 0.49</text>\n",
              "<text text-anchor=\"start\" x=\"880.95\" y=\"-325.2\" font-family=\"Helvetica,sans-Serif\" font-size=\"14.00\">samples = 67</text>\n",
              "<text text-anchor=\"start\" x=\"875.33\" y=\"-310.2\" font-family=\"Helvetica,sans-Serif\" font-size=\"14.00\">value = [39, 28]</text>\n",
              "</g>\n",
              "<!-- 18&#45;&gt;19 -->\n",
              "<g id=\"edge19\" class=\"edge\">\n",
              "<title>18&#45;&gt;19</title>\n",
              "<path fill=\"none\" stroke=\"black\" d=\"M921.83,-400.6C921.83,-390.47 921.83,-379.28 921.83,-368.93\"/>\n",
              "<polygon fill=\"black\" stroke=\"black\" points=\"925.33,-369.22 921.83,-359.22 918.33,-369.22 925.33,-369.22\"/>\n",
              "</g>\n",
              "<!-- 20 -->\n",
              "<g id=\"node21\" class=\"node\">\n",
              "<title>20</title>\n",
              "<path fill=\"#efb184\" stroke=\"black\" d=\"M1109.33,-357.5C1109.33,-357.5 1024.33,-357.5 1024.33,-357.5 1018.33,-357.5 1012.33,-351.5 1012.33,-345.5 1012.33,-345.5 1012.33,-316.5 1012.33,-316.5 1012.33,-310.5 1018.33,-304.5 1024.33,-304.5 1024.33,-304.5 1109.33,-304.5 1109.33,-304.5 1115.33,-304.5 1121.33,-310.5 1121.33,-316.5 1121.33,-316.5 1121.33,-345.5 1121.33,-345.5 1121.33,-351.5 1115.33,-357.5 1109.33,-357.5\"/>\n",
              "<text text-anchor=\"start\" x=\"1039.08\" y=\"-340.2\" font-family=\"Helvetica,sans-Serif\" font-size=\"14.00\">gini = 0.4</text>\n",
              "<text text-anchor=\"start\" x=\"1025.95\" y=\"-325.2\" font-family=\"Helvetica,sans-Serif\" font-size=\"14.00\">samples = 58</text>\n",
              "<text text-anchor=\"start\" x=\"1020.33\" y=\"-310.2\" font-family=\"Helvetica,sans-Serif\" font-size=\"14.00\">value = [42, 16]</text>\n",
              "</g>\n",
              "<!-- 18&#45;&gt;20 -->\n",
              "<g id=\"edge20\" class=\"edge\">\n",
              "<title>18&#45;&gt;20</title>\n",
              "<path fill=\"none\" stroke=\"black\" d=\"M969.31,-400.6C985.88,-388.94 1004.43,-375.89 1020.88,-364.32\"/>\n",
              "<polygon fill=\"black\" stroke=\"black\" points=\"1022.88,-367.19 1029.05,-358.58 1018.85,-361.47 1022.88,-367.19\"/>\n",
              "</g>\n",
              "</g>\n",
              "</svg>\n"
            ],
            "text/plain": [
              "<graphviz.sources.Source at 0x2854e9340>"
            ]
          },
          "execution_count": 165,
          "metadata": {},
          "output_type": "execute_result"
        }
      ],
      "source": [
        "m = DecisionTreeClassifier(min_samples_leaf=50)\n",
        "m.fit(trn_xs, trn_y)\n",
        "draw_tree(m, trn_xs, size=10)"
      ]
    },
    {
      "cell_type": "code",
      "execution_count": 166,
      "metadata": {},
      "outputs": [
        {
          "data": {
            "text/plain": [
              "0.15246636771300448"
            ]
          },
          "execution_count": 166,
          "metadata": {},
          "output_type": "execute_result"
        }
      ],
      "source": [
        "mean_absolute_error(val_y, m.predict(val_xs))"
      ]
    },
    {
      "cell_type": "code",
      "execution_count": null,
      "metadata": {},
      "outputs": [],
      "source": []
    }
  ],
  "metadata": {
    "colab": {
      "provenance": []
    },
    "kernelspec": {
      "display_name": "Python 3",
      "name": "python3"
    },
    "language_info": {
      "codemirror_mode": {
        "name": "ipython",
        "version": 3
      },
      "file_extension": ".py",
      "mimetype": "text/x-python",
      "name": "python",
      "nbconvert_exporter": "python",
      "pygments_lexer": "ipython3",
      "version": "3.9.18"
    }
  },
  "nbformat": 4,
  "nbformat_minor": 0
}
