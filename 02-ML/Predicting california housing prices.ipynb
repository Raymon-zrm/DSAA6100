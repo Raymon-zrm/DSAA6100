{
  "nbformat": 4,
  "nbformat_minor": 0,
  "metadata": {
    "colab": {
      "provenance": [],
      "toc_visible": true
    },
    "kernelspec": {
      "name": "python3",
      "display_name": "Python 3"
    },
    "language_info": {
      "name": "python"
    }
  },
  "cells": [
    {
      "cell_type": "markdown",
      "source": [
        "# PyTorch Regression Tutorial: Predicting California Housing Prices"
      ],
      "metadata": {
        "id": "yzCoy5664aqy"
      }
    },
    {
      "cell_type": "markdown",
      "source": [
        "## Introduction:"
      ],
      "metadata": {
        "id": "Tvc5AJTa5Fir"
      }
    },
    {
      "cell_type": "markdown",
      "source": [
        "In this tutorial, we will walk through the process of using PyTorch, a popular deep learning framework, to build a regression model for predicting housing prices in California. The dataset we'll be using contains various features like the median income, housing median age, average rooms, etc., for different blocks in California. Our goal is to predict the median housing price for these blocks."
      ],
      "metadata": {
        "id": "B0CtkkEJ5IGF"
      }
    },
    {
      "cell_type": "markdown",
      "source": [
        "## Step 1: Import Necessary Libraries\n",
        "Before we begin, we need to import the necessary libraries that will be used throughout this tutorial."
      ],
      "metadata": {
        "id": "jKUq9nF15OGp"
      }
    },
    {
      "cell_type": "code",
      "source": [
        "import torch\n",
        "import torch.nn as nn\n",
        "import torch.optim as optim\n",
        "from sklearn.datasets import fetch_california_housing\n",
        "from sklearn.model_selection import train_test_split\n",
        "from sklearn.preprocessing import StandardScaler\n",
        "from torch.utils.data import DataLoader, TensorDataset"
      ],
      "metadata": {
        "id": "Wb_4TnIi_APj"
      },
      "execution_count": null,
      "outputs": []
    },
    {
      "cell_type": "markdown",
      "source": [
        "## Step 2: Load and Preprocess the Data\n",
        "The California housing dataset is a popular dataset for regression tasks. It contains data about housing in California and is used to predict the median house value for California districts."
      ],
      "metadata": {
        "id": "H_NkhW7w5WKJ"
      }
    },
    {
      "cell_type": "code",
      "source": [
        "# Load data\n",
        "data = fetch_california_housing()\n",
        "X, y = data.data, data.target\n",
        "y = y.reshape(-1, 1)  # Convert to 2D array for compatibility with PyTorch\n",
        "\n",
        "# Split data into training and testing sets\n",
        "X_train, X_test, y_train, y_test = train_test_split(X, y, test_size=0.2, random_state=42)\n",
        "\n",
        "# Standardize the data to have zero mean and unit variance\n",
        "scaler_X = StandardScaler().fit(X_train)\n",
        "X_train = scaler_X.transform(X_train)\n",
        "X_test = scaler_X.transform(X_test)"
      ],
      "metadata": {
        "id": "LiSaFllg34-N"
      },
      "execution_count": null,
      "outputs": []
    },
    {
      "cell_type": "markdown",
      "source": [
        "## Step 3: Prepare Data Loaders\n",
        "Data loaders in PyTorch allow for efficient data loading and batching."
      ],
      "metadata": {
        "id": "ghwHlW-W5h3J"
      }
    },
    {
      "cell_type": "code",
      "source": [
        "# Convert data to PyTorch tensors\n",
        "X_train_tensor = torch.tensor(X_train, dtype=torch.float32)\n",
        "y_train_tensor = torch.tensor(y_train, dtype=torch.float32)\n",
        "\n",
        "# Create a DataLoader for batching and shuffling\n",
        "train_dataset = TensorDataset(X_train_tensor, y_train_tensor)\n",
        "train_loader = DataLoader(train_dataset, batch_size=64, shuffle=True)"
      ],
      "metadata": {
        "id": "mPcuLCxN3-Uf"
      },
      "execution_count": null,
      "outputs": []
    },
    {
      "cell_type": "markdown",
      "source": [
        "## Step 4: Define the Neural Network Model\n",
        "We will define a simple feed-forward neural network with three layers for our regression task."
      ],
      "metadata": {
        "id": "yj_auiKF5ZoF"
      }
    },
    {
      "cell_type": "code",
      "source": [
        "class MyModel(nn.Module):\n",
        "    def __init__(self):\n",
        "        super(MyModel, self).__init__()\n",
        "        self.net = nn.Sequential(\n",
        "            nn.Linear(8, 64),\n",
        "            nn.ReLU(),\n",
        "            nn.Linear(64, 32),\n",
        "            nn.ReLU(),\n",
        "            nn.Linear(32, 1)\n",
        "        )\n",
        "\n",
        "    def forward(self, x):\n",
        "        return self.net(x)"
      ],
      "metadata": {
        "id": "4LxmtI2m38ib"
      },
      "execution_count": null,
      "outputs": []
    },
    {
      "cell_type": "markdown",
      "source": [
        "Here, we have defined a class MyModel that inherits from nn.Module. This model consists of three linear layers with ReLU activation functions in between."
      ],
      "metadata": {
        "id": "9Atq-6g15emv"
      }
    },
    {
      "cell_type": "markdown",
      "source": [
        "## Step 5: Define Loss Function and Optimizer\n",
        "For our regression task, we will use the Mean Squared Error (MSE) as the loss function. The optimizer we'll use is Stochastic Gradient Descent (SGD)."
      ],
      "metadata": {
        "id": "XfBZn7Gc5mTJ"
      }
    },
    {
      "cell_type": "code",
      "source": [
        "model = MyModel()\n",
        "criterion = nn.MSELoss()\n",
        "optimizer = optim.SGD(model.parameters(), lr=0.01)"
      ],
      "metadata": {
        "id": "5h9XYJvb4FEh"
      },
      "execution_count": null,
      "outputs": []
    },
    {
      "cell_type": "markdown",
      "source": [
        "## Step 6: Train the Model\n",
        "Now, we will train our model using the training data."
      ],
      "metadata": {
        "id": "cXpPie9E5rOh"
      }
    },
    {
      "cell_type": "code",
      "source": [
        "num_epochs = 100\n",
        "for epoch in range(num_epochs):\n",
        "    for i, (inputs, labels) in enumerate(train_loader):\n",
        "        outputs = model(inputs)\n",
        "        loss = criterion(outputs, labels)\n",
        "\n",
        "        optimizer.zero_grad()\n",
        "        loss.backward()\n",
        "        optimizer.step()\n",
        "\n",
        "    if (epoch+1) % 10 == 0:\n",
        "        print(f'Epoch [{epoch+1}/{num_epochs}], Loss: {loss.item():.4f}')\n"
      ],
      "metadata": {
        "colab": {
          "base_uri": "https://localhost:8080/"
        },
        "id": "Dex1xeSH4IJi",
        "outputId": "bf45d86e-ac68-4ecd-c7b5-ca289275c226"
      },
      "execution_count": null,
      "outputs": [
        {
          "output_type": "stream",
          "name": "stdout",
          "text": [
            "Epoch [10/100], Loss: 0.6150\n",
            "Epoch [20/100], Loss: 0.3312\n",
            "Epoch [30/100], Loss: 0.1732\n",
            "Epoch [40/100], Loss: 0.3570\n",
            "Epoch [50/100], Loss: 0.3490\n",
            "Epoch [60/100], Loss: 0.2939\n",
            "Epoch [70/100], Loss: 0.3566\n",
            "Epoch [80/100], Loss: 0.3910\n",
            "Epoch [90/100], Loss: 0.1870\n",
            "Epoch [100/100], Loss: 0.2011\n"
          ]
        }
      ]
    },
    {
      "cell_type": "markdown",
      "source": [
        "## Step 7: Test the Model\n",
        "After training, it's essential to evaluate the model's performance on unseen data."
      ],
      "metadata": {
        "id": "hANoFHeV5uq4"
      }
    },
    {
      "cell_type": "code",
      "source": [
        "model.eval()\n",
        "with torch.no_grad():\n",
        "    X_test_tensor = torch.tensor(X_test, dtype=torch.float32)\n",
        "    y_test_tensor = torch.tensor(y_test, dtype=torch.float32)\n",
        "    test_outputs = model(X_test_tensor)\n",
        "    test_loss = criterion(test_outputs, y_test_tensor)\n",
        "    print(f'Test Loss: {test_loss.item():.4f}')\n"
      ],
      "metadata": {
        "colab": {
          "base_uri": "https://localhost:8080/"
        },
        "id": "oI78oo534RTt",
        "outputId": "452760df-fc9c-4327-a367-3530bd4f8670"
      },
      "execution_count": null,
      "outputs": [
        {
          "output_type": "stream",
          "name": "stdout",
          "text": [
            "Test Loss: 0.2876\n"
          ]
        }
      ]
    },
    {
      "cell_type": "markdown",
      "source": [
        "## Step 8: Visualize Predictions\n",
        "After evaluating the model's overall performance, it's often useful to visualize some of the predictions to get a sense of how well the model is doing on individual data points.\n",
        "This code will print the predicted and actual values for the first five samples in the test set. By comparing these values, you can get a sense of how close the model's predictions are to the actual values."
      ],
      "metadata": {
        "id": "4sp04DzN2v-1"
      }
    },
    {
      "cell_type": "code",
      "source": [
        "# Get predictions for a subset of the test data\n",
        "sample_inputs = X_test_tensor[:5]\n",
        "sample_labels = y_test[:5]\n",
        "sample_outputs = model(sample_inputs)\n",
        "\n",
        "for i in range(len(sample_inputs)):\n",
        "    print(f\"Predicted: {sample_outputs[i][0]:.2f}, Actual: {sample_labels[i][0]:.2f}\")\n"
      ],
      "metadata": {
        "colab": {
          "base_uri": "https://localhost:8080/"
        },
        "id": "oakBVGTh2QkJ",
        "outputId": "d6050023-abd2-4be5-a6b7-6fbe097e1827"
      },
      "execution_count": null,
      "outputs": [
        {
          "output_type": "stream",
          "name": "stdout",
          "text": [
            "Predicted: 0.58, Actual: 0.48\n",
            "Predicted: 1.14, Actual: 0.46\n",
            "Predicted: 4.53, Actual: 5.00\n",
            "Predicted: 2.57, Actual: 2.19\n",
            "Predicted: 2.93, Actual: 2.78\n"
          ]
        }
      ]
    },
    {
      "cell_type": "markdown",
      "source": [
        "## Conclusion:\n",
        "In this tutorial, we walked through the process of building a regression model using PyTorch. We used the California housing dataset, preprocessed the data, defined a neural network model, trained it, evaluated its performance, and visualized some of its predictions. This serves as a foundational example for anyone looking to get started with regression tasks using deep learning. As always, there's room for improvement, and one can experiment with different architectures, optimizers, and other hyperparameters to achieve better results. The visualization step provides a more granular view of the model's performance, helping to identify areas for further refinement."
      ],
      "metadata": {
        "id": "H5s0ZPds5w7h"
      }
    }
  ]
}